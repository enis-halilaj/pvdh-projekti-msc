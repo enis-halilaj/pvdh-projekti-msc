{
 "cells": [
  {
   "cell_type": "markdown",
   "metadata": {
    "vscode": {
     "languageId": "html"
    }
   },
   "source": [
    "# Faktorët e Performancës së Studentëve\n",
    "\n",
    "Qëllimi i preprocesimit të datasetit \"Faktorët e Performancës së Studentëve\" është të përgatisim të dhënat në mënyrë të tillë që ato të jenë të gatshme për analiza të mëtejshme dhe ndërtimin e modeleve parashikuese të sakta. Procesi i parapërpunimit është një hap thelbësor që siguron cilësinë dhe qëndrueshmërinë e të dhënave për të shmangur gabimet në interpretim dhe për të përmirësuar rezultatet e analizave. Kjo përfshin një sërë hapash që pasurojnë datasetin dhe rrisin efikasitetin e tij për qëllime studimi dhe modelimi."
   ]
  },
  {
   "cell_type": "markdown",
   "metadata": {},
   "source": [
    "### Libraritë e përdorura"
   ]
  },
  {
   "cell_type": "code",
   "execution_count": 66,
   "metadata": {},
   "outputs": [],
   "source": [
    "import pandas as pd\n",
    "import numpy as np\n",
    "from scipy import stats"
   ]
  },
  {
   "cell_type": "markdown",
   "metadata": {},
   "source": [
    "### Leximi i dataset-it"
   ]
  },
  {
   "cell_type": "code",
   "execution_count": 63,
   "metadata": {},
   "outputs": [],
   "source": [
    "# Dataframe kryesore\n",
    "main_df = pd.read_csv(\"../dataset/StudentPerformanceFactors.csv\")\n",
    "\n",
    "# Dataframe i preprocesuar\n",
    "pre_df = pd.read_csv(\"../dataset/StudentPerformanceFactors_new.csv\")"
   ]
  },
  {
   "cell_type": "markdown",
   "metadata": {},
   "source": [
    "# FAZA E PARË"
   ]
  },
  {
   "cell_type": "markdown",
   "metadata": {},
   "source": [
    "### 1. Kualiteti i te dhenave"
   ]
  },
  {
   "cell_type": "markdown",
   "metadata": {},
   "source": [
    "##### 1.1 Definimi i tipeve te dhenave"
   ]
  },
  {
   "cell_type": "code",
   "execution_count": 15,
   "metadata": {},
   "outputs": [
    {
     "name": "stdout",
     "output_type": "stream",
     "text": [
      "Tipet e te dhenave: \n",
      "\n",
      "Hours_Studied                  int64\n",
      "Attendance                     int64\n",
      "Parental_Involvement          object\n",
      "Access_to_Resources           object\n",
      "Extracurricular_Activities    object\n",
      "Sleep_Hours                    int64\n",
      "Previous_Scores                int64\n",
      "Motivation_Level              object\n",
      "Internet_Access               object\n",
      "Tutoring_Sessions              int64\n",
      "Family_Income                 object\n",
      "Teacher_Quality               object\n",
      "School_Type                   object\n",
      "Peer_Influence                object\n",
      "Physical_Activity              int64\n",
      "Learning_Disabilities         object\n",
      "Parental_Education_Level      object\n",
      "Distance_from_Home            object\n",
      "Gender                        object\n",
      "Exam_Score                     int64\n",
      "dtype: object\n",
      "\n",
      "Atributet kategorike: Index(['Parental_Involvement', 'Access_to_Resources',\n",
      "       'Extracurricular_Activities', 'Motivation_Level', 'Internet_Access',\n",
      "       'Family_Income', 'Teacher_Quality', 'School_Type', 'Peer_Influence',\n",
      "       'Learning_Disabilities', 'Parental_Education_Level',\n",
      "       'Distance_from_Home', 'Gender'],\n",
      "      dtype='object')\n",
      "\n",
      "Atributet numerike : Index(['Hours_Studied', 'Attendance', 'Sleep_Hours', 'Previous_Scores',\n",
      "       'Tutoring_Sessions', 'Physical_Activity', 'Exam_Score'],\n",
      "      dtype='object')\n"
     ]
    }
   ],
   "source": [
    "print(\"Tipet e te dhenave: \\n\")\n",
    "print(main_df.dtypes)\n",
    "\n",
    "# Atributet kategorike dhe numerike\n",
    "categorical_columns = main_df.select_dtypes(include=['object']).columns\n",
    "numerical_columns = main_df.select_dtypes(include=['int64', 'float64']).columns\n",
    "\n",
    "print(\"\\nAtributet kategorike:\", categorical_columns)\n",
    "print(\"\\nAtributet numerike :\", numerical_columns)"
   ]
  },
  {
   "cell_type": "markdown",
   "metadata": {},
   "source": [
    "##### 1.2 Menaxhimi vlerave te zbrazeta (null):\n"
   ]
  },
  {
   "cell_type": "code",
   "execution_count": 29,
   "metadata": {},
   "outputs": [
    {
     "name": "stdout",
     "output_type": "stream",
     "text": [
      "Hours_Studied                  0\n",
      "Attendance                     0\n",
      "Parental_Involvement           0\n",
      "Access_to_Resources            0\n",
      "Extracurricular_Activities     0\n",
      "Sleep_Hours                    0\n",
      "Previous_Scores                0\n",
      "Motivation_Level               0\n",
      "Internet_Access                0\n",
      "Tutoring_Sessions              0\n",
      "Family_Income                  0\n",
      "Teacher_Quality               78\n",
      "School_Type                    0\n",
      "Peer_Influence                 0\n",
      "Physical_Activity              0\n",
      "Learning_Disabilities          0\n",
      "Parental_Education_Level      90\n",
      "Distance_from_Home            67\n",
      "Gender                         0\n",
      "Exam_Score                     0\n",
      "dtype: int64\n",
      "\n",
      "Atributet që kanë vlera null: Teacher_Quality, Parental_Education_Level, Distance_from_Home\n"
     ]
    }
   ],
   "source": [
    "# Metoda per gjetjen e vlerave null\n",
    "null_counts = main_df.isnull().sum()\n",
    "\n",
    "print(null_counts)\n",
    "\n",
    "has_nulls = main_df.isnull().any()\n",
    "\n",
    "print('\\nAtributet qe kane vlera null:', ', '.join(has_nulls[has_nulls].index))"
   ]
  },
  {
   "cell_type": "markdown",
   "metadata": {},
   "source": [
    "Ne kodin me poshte, kemi perpunuar te dhenat duke zevendesuar vlerat null me vlera te pershtatshme ne varesi te tipit te atributit (kolones). Fillimisht kemi bere identifikimin e kolonave me vlera te zbrazeta te cilat ndahen ne dy grupe: numerike dhe kategorike. Kolonat numerike zevendesohen me medianen per te shmangur ndikimin e outliers ndersa kolona te tjera numerike perdorin mesataren. Per kolonat kategorike vlerat null zevendesohen me vleren me te shpeshte. Pas kesaj kontrollohet dataset-i per te siguruar qe te gjitha vlerat null jane zevendesuar duke lejuar modifikimin direkt te te dhenave me inplace=True dhe duke parandaluar kopjet e padeshiruara."
   ]
  },
  {
   "cell_type": "code",
   "execution_count": 64,
   "metadata": {},
   "outputs": [
    {
     "name": "stdout",
     "output_type": "stream",
     "text": [
      "Atributet qe kane vlera null:\n",
      "Hours_Studied                 0\n",
      "Attendance                    0\n",
      "Parental_Involvement          0\n",
      "Access_to_Resources           0\n",
      "Extracurricular_Activities    0\n",
      "Sleep_Hours                   0\n",
      "Previous_Scores               0\n",
      "Motivation_Level              0\n",
      "Internet_Access               0\n",
      "Tutoring_Sessions             0\n",
      "Family_Income                 0\n",
      "Teacher_Quality               0\n",
      "School_Type                   0\n",
      "Peer_Influence                0\n",
      "Physical_Activity             0\n",
      "Learning_Disabilities         0\n",
      "Parental_Education_Level      0\n",
      "Distance_from_Home            0\n",
      "Gender                        0\n",
      "Exam_Score                    0\n",
      "dtype: int64\n"
     ]
    }
   ],
   "source": [
    "# Ndarja e kolonave ne numerike dhe kategorike\n",
    "numeric_cols = pre_df.select_dtypes(include=['float64', 'int64']).columns\n",
    "categorical_cols = pre_df.select_dtypes(include=['object', 'category']).columns\n",
    "\n",
    "# Per kolonat numerike vendos medianen si vlere ne Exam_Score\n",
    "pre_df.fillna({'Exam_Score': pre_df['Exam_Score'].median()}, inplace=True)\n",
    "\n",
    "# Vendos vleren mesatare ne kolonat e tjera numerike\n",
    "for col in numeric_cols:\n",
    "    if col != 'Exam_Score':\n",
    "        pre_df.fillna({col: pre_df[col].mean()}, inplace=True)\n",
    "\n",
    "# Per kolonat kategorike ploteso vlerat e zbrazeta me vleren me te shpeshte\n",
    "for col in categorical_cols:\n",
    "    pre_df.fillna({col: pre_df[col].mode()[0]}, inplace=True)\n",
    "\n",
    "# Kontrollo perseri per vlerat e zbrazeta per te konfirmuar\n",
    "print(\"Atributet qe kane vlera null:\")\n",
    "print(pre_df.isnull().sum())\n"
   ]
  },
  {
   "cell_type": "code",
   "execution_count": 59,
   "metadata": {},
   "outputs": [
    {
     "name": "stdout",
     "output_type": "stream",
     "text": [
      "Hours_Studied                 0\n",
      "Attendance                    0\n",
      "Parental_Involvement          0\n",
      "Access_to_Resources           0\n",
      "Extracurricular_Activities    0\n",
      "Sleep_Hours                   0\n",
      "Previous_Scores               0\n",
      "Motivation_Level              0\n",
      "Internet_Access               0\n",
      "Tutoring_Sessions             0\n",
      "Family_Income                 0\n",
      "Teacher_Quality               0\n",
      "School_Type                   0\n",
      "Peer_Influence                0\n",
      "Physical_Activity             0\n",
      "Learning_Disabilities         0\n",
      "Parental_Education_Level      0\n",
      "Distance_from_Home            0\n",
      "Gender                        0\n",
      "Exam_Score                    0\n",
      "dtype: int64\n"
     ]
    }
   ],
   "source": [
    "# Lista e kolonave qe duhet kontrolluar per vlera te zbrazeta\n",
    "kolonat = [\n",
    "    'Hours_Studied', \n",
    "    'Attendance', \n",
    "    'Parental_Involvement', \n",
    "    'Access_to_Resources', \n",
    "    'Extracurricular_Activities', \n",
    "    'Sleep_Hours', \n",
    "    'Previous_Scores', \n",
    "    'Motivation_Level', \n",
    "    'Internet_Access', \n",
    "    'Tutoring_Sessions', \n",
    "    'Family_Income', \n",
    "    'Teacher_Quality', \n",
    "    'School_Type', \n",
    "    'Peer_Influence', \n",
    "    'Physical_Activity', \n",
    "    'Learning_Disabilities', \n",
    "    'Parental_Education_Level', \n",
    "    'Distance_from_Home', \n",
    "    'Gender', \n",
    "    'Exam_Score'\n",
    "]\n",
    "\n",
    "# Largo rreshtat me vlera null ne kolonat e specifikuara me larte\n",
    "pre_df.dropna(subset=kolonat, inplace=True)\n",
    "\n",
    "# Shfaqni numrin e vlerave null qe kane mbetur ne cdo kolone\n",
    "print(pre_df.isnull().sum())\n"
   ]
  },
  {
   "cell_type": "markdown",
   "metadata": {},
   "source": [
    "Identifikimin e duplikimeve (duplicates)"
   ]
  },
  {
   "cell_type": "code",
   "execution_count": 60,
   "metadata": {},
   "outputs": [
    {
     "name": "stdout",
     "output_type": "stream",
     "text": [
      "Duplikimet e gjetura: 0\n"
     ]
    }
   ],
   "source": [
    "# Funksioni per identifikimin e duplikimeve\n",
    "print(\"Duplikimet e gjetura: \" + str(pre_df.duplicated().sum()))"
   ]
  },
  {
   "cell_type": "markdown",
   "metadata": {},
   "source": [
    "Ne dataset-in tone nuk kemi gjetur ndonje duplikate prandaj nuk ishte e nevojshme te bejme asnje fshirje te duplikateve. Kjo konfirmon kualitetin e te dhënave dhe na lejon te vazhdojme me analizen e metejeshme."
   ]
  }
 ],
 "metadata": {
  "kernelspec": {
   "display_name": "Python 3",
   "language": "python",
   "name": "python3"
  },
  "language_info": {
   "codemirror_mode": {
    "name": "ipython",
    "version": 3
   },
   "file_extension": ".py",
   "mimetype": "text/x-python",
   "name": "python",
   "nbconvert_exporter": "python",
   "pygments_lexer": "ipython3",
   "version": "3.13.0"
  }
 },
 "nbformat": 4,
 "nbformat_minor": 2
}
